{
 "cells": [
  {
   "cell_type": "code",
   "execution_count": 1,
   "id": "0129c1ee",
   "metadata": {},
   "outputs": [],
   "source": [
    "# 필요한 module Download\n",
    "import torch\n",
    "import torch.nn as nn\n",
    "import torch.nn.functional as F\n",
    "import torch.optim as optim\n",
    "from torchvision import datasets, transforms\n",
    "\n",
    "from matplotlib import pyplot as plt\n",
    "%matplotlib inline"
   ]
  },
  {
   "cell_type": "code",
   "execution_count": 2,
   "id": "b828bba9",
   "metadata": {},
   "outputs": [
    {
     "name": "stdout",
     "output_type": "stream",
     "text": [
      "Current cuda device is  cpu\n"
     ]
    }
   ],
   "source": [
    "# cuda가 존재할 경우 gpu사용, 아닐 경우 cpu\n",
    "is_cuda = torch.cuda.is_available()\n",
    "device = torch.device('cuda' if is_cuda else 'cpu')\n",
    "\n",
    "print(\"Current cuda device is\", device)"
   ]
  },
  {
   "cell_type": "code",
   "execution_count": 3,
   "id": "4ffca062",
   "metadata": {},
   "outputs": [],
   "source": [
    "# Hyper Parameter Settings\n",
    "batch_size = 50\n",
    "epoch_num = 15\n",
    "learning_rate = 1e-4"
   ]
  },
  {
   "cell_type": "code",
   "execution_count": 4,
   "id": "7b310915",
   "metadata": {},
   "outputs": [
    {
     "name": "stdout",
     "output_type": "stream",
     "text": [
      "Downloading http://yann.lecun.com/exdb/mnist/train-images-idx3-ubyte.gz\n",
      "Downloading http://yann.lecun.com/exdb/mnist/train-images-idx3-ubyte.gz to ./data\\MNIST\\raw\\train-images-idx3-ubyte.gz\n"
     ]
    },
    {
     "name": "stderr",
     "output_type": "stream",
     "text": [
      "100.0%\n"
     ]
    },
    {
     "name": "stdout",
     "output_type": "stream",
     "text": [
      "Extracting ./data\\MNIST\\raw\\train-images-idx3-ubyte.gz to ./data\\MNIST\\raw\n",
      "\n",
      "Downloading http://yann.lecun.com/exdb/mnist/train-labels-idx1-ubyte.gz\n",
      "Downloading http://yann.lecun.com/exdb/mnist/train-labels-idx1-ubyte.gz to ./data\\MNIST\\raw\\train-labels-idx1-ubyte.gz\n"
     ]
    },
    {
     "name": "stderr",
     "output_type": "stream",
     "text": [
      "102.8%\n"
     ]
    },
    {
     "name": "stdout",
     "output_type": "stream",
     "text": [
      "Extracting ./data\\MNIST\\raw\\train-labels-idx1-ubyte.gz to ./data\\MNIST\\raw\n",
      "\n",
      "Downloading http://yann.lecun.com/exdb/mnist/t10k-images-idx3-ubyte.gz\n",
      "Downloading http://yann.lecun.com/exdb/mnist/t10k-images-idx3-ubyte.gz to ./data\\MNIST\\raw\\t10k-images-idx3-ubyte.gz\n"
     ]
    },
    {
     "name": "stderr",
     "output_type": "stream",
     "text": [
      "100.0%\n"
     ]
    },
    {
     "name": "stdout",
     "output_type": "stream",
     "text": [
      "Extracting ./data\\MNIST\\raw\\t10k-images-idx3-ubyte.gz to ./data\\MNIST\\raw\n",
      "\n",
      "Downloading http://yann.lecun.com/exdb/mnist/t10k-labels-idx1-ubyte.gz\n",
      "Downloading http://yann.lecun.com/exdb/mnist/t10k-labels-idx1-ubyte.gz to ./data\\MNIST\\raw\\t10k-labels-idx1-ubyte.gz\n"
     ]
    },
    {
     "name": "stderr",
     "output_type": "stream",
     "text": [
      "112.7%"
     ]
    },
    {
     "name": "stdout",
     "output_type": "stream",
     "text": [
      "Extracting ./data\\MNIST\\raw\\t10k-labels-idx1-ubyte.gz to ./data\\MNIST\\raw\n",
      "\n",
      "number of training data: 60000\n",
      "number of test data: 10000\n"
     ]
    },
    {
     "name": "stderr",
     "output_type": "stream",
     "text": [
      "\n",
      "C:\\Users\\user\\anaconda3\\envs\\deep_class\\lib\\site-packages\\torchvision\\datasets\\mnist.py:498: UserWarning: The given NumPy array is not writeable, and PyTorch does not support non-writeable tensors. This means you can write to the underlying (supposedly non-writeable) NumPy array using the tensor. You may want to copy the array to protect its data or make it writeable before converting it to a tensor. This type of warning will be suppressed for the rest of this program. (Triggered internally at  ..\\torch\\csrc\\utils\\tensor_numpy.cpp:180.)\n",
      "  return torch.from_numpy(parsed.astype(m[2], copy=False)).view(*s)\n"
     ]
    }
   ],
   "source": [
    "# MNIST DATA DOWNLOADING\n",
    "# parameter 中 transform : 데이터들을 tensor 형태로 변형한다.\n",
    "train_data = datasets.MNIST(root = './data', train = True, download = True, transform = transforms.ToTensor())\n",
    "test_data = datasets.MNIST(root = './data', train = False, transform = transforms.ToTensor())\n",
    "\n",
    "print(\"number of training data:\", len(train_data))\n",
    "print(\"number of test data:\", len(test_data))"
   ]
  },
  {
   "cell_type": "code",
   "execution_count": 5,
   "id": "f6c7d60b",
   "metadata": {},
   "outputs": [
    {
     "data": {
      "image/png": "[encoded data removed]",
      "text/plain": [
       "<Figure size 432x288 with 1 Axes>"
      ]
     },
     "metadata": {
      "needs_background": "light"
     },
     "output_type": "display_data"
    }
   ],
   "source": [
    "# MNIST DATA CHECK\n",
    "image, label = train_data[0]\n",
    "\n",
    "plt.imshow(image.squeeze().numpy(), cmap = \"gray\")\n",
    "plt.title(\"label : %s\" % label)\n",
    "plt.show()"
   ]
  },
  {
   "cell_type": "code",
   "execution_count": 9,
   "id": "c03ea7d6",
   "metadata": {},
   "outputs": [
    {
     "name": "stdout",
     "output_type": "stream",
     "text": [
      "name            | type                      | size\n",
      "Num of Batch    |                           | 1200\n",
      "first_batch     | <class 'list'>            | 2\n",
      "first_batch[0]  | <class 'torch.Tensor'>    | torch.Size([50, 1, 28, 28])\n",
      "first_batch[1]  | <class 'torch.Tensor'>    | torch.Size([50])\n"
     ]
    }
   ],
   "source": [
    "# small batch compose\n",
    "# parameter 中 shuffle : 말 그대로 shuffle. 데이터 사용할 때 섞어서 사용한다는 뜻.\n",
    "train_loader = torch.utils.data.DataLoader(dataset = train_data, batch_size = batch_size, shuffle = True)\n",
    "test_loader = torch.utils.data.DataLoader(dataset = test_data, batch_size = batch_size, shuffle = True)\n",
    "\n",
    "first_batch = train_loader.__iter__().__next__()\n",
    "print(\"{:15s} | {:<25s} | {}\".format(\"name\", \"type\", \"size\"))\n",
    "print(\"{:15s} | {:<25s} | {}\".format(\"Num of Batch\", \"\", len(train_loader)))\n",
    "print(\"{:15s} | {:<25s} | {}\".format(\"first_batch\", str(type(first_batch)), len(first_batch)))\n",
    "print(\"{:15s} | {:<25s} | {}\".format(\"first_batch[0]\", str(type(first_batch[0])), first_batch[0].shape))\n",
    "print(\"{:15s} | {:<25s} | {}\".format(\"first_batch[1]\", str(type(first_batch[1])), first_batch[1].shape))"
   ]
  },
  {
   "cell_type": "code",
   "execution_count": 10,
   "id": "f4509d94",
   "metadata": {},
   "outputs": [],
   "source": [
    "# CNN Model\n",
    "class CNN(nn.Module):\n",
    "    def __init__(self):\n",
    "        super(CNN, self).__init__()\n",
    "        self.conv1 = nn.Conv2d(1, 32, 3, 1)      # Conv2d의 parameter는 무엇을 의미? : (input channel size, pixel, pixel, padding)\n",
    "        self.conv2 = nn.Conv2d(32, 64, 3, 1)\n",
    "        self.dropout1 = nn.Dropout2d(0.25)       # dropout이란? : Overfitting 방지를 위한 방법으로 일종의 치매!\n",
    "        self.dropout2 = nn.Dropout2d(0.5)\n",
    "        # fully connected 설정 방법? : Output Size = (input volume size - kernel_size + 2 * padding size) / stride + 1.\n",
    "        # 즉, conv1 => (32 - 3 + 2*1) / 1 + 1 = 32. stride는 default 값이 1이다.\n",
    "        # Maxpooling이 있다면 Maxpooling 값으로 나눈 값이 Output Size\n",
    "        self.fc1 = nn.Linear(9216, 128)\n",
    "        self.fc2 = nn.Linear(128, 10)\n",
    "        \n",
    "    def forward(self, x):\n",
    "        x = self.conv1(x)\n",
    "        x = F.relu(x)\n",
    "        x = self.conv2(x)\n",
    "        x = F.relu(x)\n",
    "        x = F.max_pool2d(x, 2)\n",
    "        x = self.dropout1(x)\n",
    "        # flatten(평탄화)란? : 다차원 형태의 행렬을 통합하여 놓음! 파라미터가 하나라면 [원소들], 두 번째 파라미터가 1이라면 [[원소 일부], [원소 일부]]의 형태\n",
    "        x = torch.flatten(x, 1)\n",
    "        x = self.fc1(x)\n",
    "        x = F.relu(x)\n",
    "        x = self.dropout2(x)\n",
    "        x = self.fc2(x)\n",
    "        # softmax란? : 입력받은 값을 출력으로 0~1사이의 값으로 모두 정규화하며 출력 값들의 총합은 항상 1이 되는 특성을 가진 함수(출처 : https://wikidocs.net/35476)\n",
    "        # 즉, 각 값들일 확률을 나타낸다는 것!\n",
    "        output = F.log_softmax(x, dim = 1)\n",
    "        return output"
   ]
  },
  {
   "cell_type": "code",
   "execution_count": 18,
   "id": "b70e7e58",
   "metadata": {},
   "outputs": [],
   "source": [
    "# Optimizer and Loss Function define\n",
    "model = CNN().to(device)\n",
    "# Optimizer란? : Hyper Parameter를 조정하는 역할!\n",
    "optimizer = optim.Adam(model.parameters(), lr = learning_rate)\n",
    "# Loss Function 종류는? : MSE, RMSE, CrossEntropy 등 다양하며 각각의 성질도 다르다!\n",
    "criterion = nn.CrossEntropyLoss()"
   ]
  },
  {
   "cell_type": "code",
   "execution_count": 19,
   "id": "b9e133d5",
   "metadata": {},
   "outputs": [
    {
     "name": "stdout",
     "output_type": "stream",
     "text": [
      "CNN(\n",
      "  (conv1): Conv2d(1, 32, kernel_size=(3, 3), stride=(1, 1))\n",
      "  (conv2): Conv2d(32, 64, kernel_size=(3, 3), stride=(1, 1))\n",
      "  (dropout1): Dropout2d(p=0.25, inplace=False)\n",
      "  (dropout2): Dropout2d(p=0.5, inplace=False)\n",
      "  (fc1): Linear(in_features=9216, out_features=128, bias=True)\n",
      "  (fc2): Linear(in_features=128, out_features=10, bias=True)\n",
      ")\n"
     ]
    }
   ],
   "source": [
    "print(model)"
   ]
  },
  {
   "cell_type": "code",
   "execution_count": 20,
   "id": "47bf4066",
   "metadata": {},
   "outputs": [
    {
     "name": "stdout",
     "output_type": "stream",
     "text": [
      "Train Step: 0\tLoss: 2.277\n",
      "Train Step: 1000\tLoss: 0.315\n",
      "Train Step: 2000\tLoss: 0.268\n",
      "Train Step: 3000\tLoss: 0.118\n",
      "Train Step: 4000\tLoss: 0.154\n",
      "Train Step: 5000\tLoss: 0.135\n",
      "Train Step: 6000\tLoss: 0.069\n",
      "Train Step: 7000\tLoss: 0.032\n",
      "Train Step: 8000\tLoss: 0.103\n",
      "Train Step: 9000\tLoss: 0.052\n",
      "Train Step: 10000\tLoss: 0.034\n",
      "Train Step: 11000\tLoss: 0.044\n",
      "Train Step: 12000\tLoss: 0.017\n",
      "Train Step: 13000\tLoss: 0.142\n",
      "Train Step: 14000\tLoss: 0.181\n",
      "Train Step: 15000\tLoss: 0.103\n",
      "Train Step: 16000\tLoss: 0.008\n",
      "Train Step: 17000\tLoss: 0.013\n"
     ]
    }
   ],
   "source": [
    "# Model Training\n",
    "model.train()\n",
    "i = 0\n",
    "for epoch in range(epoch_num):\n",
    "    for data, target in train_loader:\n",
    "        data = data.to(device)\n",
    "        target = target.to(device)\n",
    "        # zero_grad : 미분을 통해 얻은 기울기를 0으로 초기화 : 새로운 가중치 편향에 대해 새로운 기울기를 구하고자 함. 출처 : https://wikidocs.net/53560\n",
    "        optimizer.zero_grad()\n",
    "        output = model(data)\n",
    "        loss = criterion(output, target)\n",
    "        loss.backward()\n",
    "        optimizer.step()\n",
    "        if i % 1000 == 0:\n",
    "            print(\"Train Step: {}\\tLoss: {:.3f}\".format(i, loss.item()))\n",
    "        i += 1"
   ]
  },
  {
   "cell_type": "code",
   "execution_count": 21,
   "id": "4d51f624",
   "metadata": {
    "scrolled": true
   },
   "outputs": [
    {
     "name": "stdout",
     "output_type": "stream",
     "text": [
      "Test set: Accuracy: 98.98%\n"
     ]
    }
   ],
   "source": [
    "# Model Evaluation\n",
    "model.eval()\n",
    "correct = 0\n",
    "for data, target in test_loader:\n",
    "    data = data.to(device)\n",
    "    target = target.to(device)\n",
    "    output = model(data)\n",
    "    prediction = output.data.max(1)[1]\n",
    "    correct += prediction.eq(target.data).sum()\n",
    "\n",
    "print(\"Test set: Accuracy: {:.2f}%\".format(100 * correct / len(test_loader.dataset)))"
   ]
  }
 ],
 "metadata": {
  "kernelspec": {
   "display_name": "Python 3",
   "language": "python",
   "name": "python3"
  },
  "language_info": {
   "codemirror_mode": {
    "name": "ipython",
    "version": 3
   },
   "file_extension": ".py",
   "mimetype": "text/x-python",
   "name": "python",
   "nbconvert_exporter": "python",
   "pygments_lexer": "ipython3",
   "version": "3.8.10"
  }
 },
 "nbformat": 4,
 "nbformat_minor": 5
}
