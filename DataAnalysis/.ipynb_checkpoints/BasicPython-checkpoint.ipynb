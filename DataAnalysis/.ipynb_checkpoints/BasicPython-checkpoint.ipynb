{
 "cells": [
  {
   "cell_type": "code",
   "execution_count": 1,
   "id": "e9222b5f",
   "metadata": {},
   "outputs": [
    {
     "name": "stdout",
     "output_type": "stream",
     "text": [
      "The Zen of Python, by Tim Peters\n",
      "\n",
      "Beautiful is better than ugly.\n",
      "Explicit is better than implicit.\n",
      "Simple is better than complex.\n",
      "Complex is better than complicated.\n",
      "Flat is better than nested.\n",
      "Sparse is better than dense.\n",
      "Readability counts.\n",
      "Special cases aren't special enough to break the rules.\n",
      "Although practicality beats purity.\n",
      "Errors should never pass silently.\n",
      "Unless explicitly silenced.\n",
      "In the face of ambiguity, refuse the temptation to guess.\n",
      "There should be one-- and preferably only one --obvious way to do it.\n",
      "Although that way may not be obvious at first unless you're Dutch.\n",
      "Now is better than never.\n",
      "Although never is often better than *right* now.\n",
      "If the implementation is hard to explain, it's a bad idea.\n",
      "If the implementation is easy to explain, it may be a good idea.\n",
      "Namespaces are one honking great idea -- let's do more of those!\n"
     ]
    }
   ],
   "source": [
    "# PEP20 : 파이썬의 철학을 나타냄!\n",
    "import this"
   ]
  },
  {
   "cell_type": "code",
   "execution_count": 2,
   "id": "795f9763",
   "metadata": {},
   "outputs": [
    {
     "data": {
      "text/plain": [
       "True"
      ]
     },
     "execution_count": 2,
     "metadata": {},
     "output_type": "execute_result"
    }
   ],
   "source": [
    "# Boolean 타입은 True와 False 둘 중 하나이다! True를 그대로 입력하면?\n",
    "True"
   ]
  },
  {
   "cell_type": "code",
   "execution_count": 3,
   "id": "f073800a",
   "metadata": {},
   "outputs": [
    {
     "data": {
      "text/plain": [
       "False"
      ]
     },
     "execution_count": 3,
     "metadata": {},
     "output_type": "execute_result"
    }
   ],
   "source": [
    "# Boolean 타입은 True와 False 둘 중 하나이다! False를 그대로 입력하면?\n",
    "False"
   ]
  },
  {
   "cell_type": "code",
   "execution_count": 4,
   "id": "4b12e455",
   "metadata": {},
   "outputs": [
    {
     "data": {
      "text/plain": [
       "True"
      ]
     },
     "execution_count": 4,
     "metadata": {},
     "output_type": "execute_result"
    }
   ],
   "source": [
    "# True는 1과 같다!\n",
    "True == 1"
   ]
  },
  {
   "cell_type": "code",
   "execution_count": 5,
   "id": "06755b4c",
   "metadata": {},
   "outputs": [
    {
     "data": {
      "text/plain": [
       "True"
      ]
     },
     "execution_count": 5,
     "metadata": {},
     "output_type": "execute_result"
    }
   ],
   "source": [
    "# False는 0과 같다!\n",
    "False == 0"
   ]
  },
  {
   "cell_type": "code",
   "execution_count": 6,
   "id": "47c5dd21",
   "metadata": {},
   "outputs": [
    {
     "data": {
      "text/plain": [
       "False"
      ]
     },
     "execution_count": 6,
     "metadata": {},
     "output_type": "execute_result"
    }
   ],
   "source": [
    "# 하지만 True와 문자 1은 다르다! 1을 따옴표(큰따옴표, 작은따옴표 무관)로 감싸면 문자열!\n",
    "True == \"1\""
   ]
  },
  {
   "cell_type": "code",
   "execution_count": 7,
   "id": "18385cda",
   "metadata": {},
   "outputs": [
    {
     "data": {
      "text/plain": [
       "False"
      ]
     },
     "execution_count": 7,
     "metadata": {},
     "output_type": "execute_result"
    }
   ],
   "source": [
    "# False도 마찬가지로 문자 0과는 다르다!\n",
    "False == \"0\""
   ]
  },
  {
   "cell_type": "code",
   "execution_count": 8,
   "id": "1b5e7d65",
   "metadata": {},
   "outputs": [
    {
     "data": {
      "text/plain": [
       "True"
      ]
     },
     "execution_count": 8,
     "metadata": {},
     "output_type": "execute_result"
    }
   ],
   "source": [
    "# and 연산은 모든 값이 True일 때 True이다!\n",
    "True and True"
   ]
  },
  {
   "cell_type": "code",
   "execution_count": 9,
   "id": "49066b0a",
   "metadata": {},
   "outputs": [
    {
     "data": {
      "text/plain": [
       "False"
      ]
     },
     "execution_count": 9,
     "metadata": {},
     "output_type": "execute_result"
    }
   ],
   "source": [
    "# 즉, 하나의 값이라도 False라면 False이다!\n",
    "True and False"
   ]
  },
  {
   "cell_type": "code",
   "execution_count": 10,
   "id": "24ea8140",
   "metadata": {},
   "outputs": [
    {
     "data": {
      "text/plain": [
       "True"
      ]
     },
     "execution_count": 10,
     "metadata": {},
     "output_type": "execute_result"
    }
   ],
   "source": [
    "# or 연산은 하나라도 True라면 True이다!\n",
    "True or False"
   ]
  },
  {
   "cell_type": "code",
   "execution_count": 1,
   "id": "06ec4ae7",
   "metadata": {},
   "outputs": [
    {
     "name": "stdout",
     "output_type": "stream",
     "text": [
      "<class 'int'>\n",
      "<class 'str'>\n"
     ]
    }
   ],
   "source": [
    "# type() 메소드를 통해서 데이터 타입을 출력할 수 있다!\n",
    "print(type(1))\n",
    "print(type(\"1\"))"
   ]
  },
  {
   "cell_type": "code",
   "execution_count": 2,
   "id": "b1605420",
   "metadata": {},
   "outputs": [
    {
     "name": "stdout",
     "output_type": "stream",
     "text": [
      "Hello World!\n"
     ]
    }
   ],
   "source": [
    "# 프로그래밍 언어를 배울 때 가장 먼저 Hello World!를 출력해 보아야지?!\n",
    "# 문자를 출력할 때에는 \"큰따옴표\"를 이용하면 된다!\n",
    "print(\"Hello World!\")"
   ]
  },
  {
   "cell_type": "code",
   "execution_count": 3,
   "id": "a07aa929",
   "metadata": {},
   "outputs": [
    {
     "name": "stdout",
     "output_type": "stream",
     "text": [
      "Hello World!\n"
     ]
    }
   ],
   "source": [
    "# python은 다른 언어와 달리 '작은 따옴표'를 이용해도 문자열을 출력할 수 있다!\n",
    "print('Hello World!')"
   ]
  },
  {
   "cell_type": "code",
   "execution_count": 5,
   "id": "3f6f73d9",
   "metadata": {},
   "outputs": [
    {
     "name": "stdout",
     "output_type": "stream",
     "text": [
      "today i learned\n",
      "TODAY I LEARNED\n"
     ]
    }
   ],
   "source": [
    "# 변수에 문자열을 할당하고 싶을 때는 =을 이용해서 할당하면 된다.\n",
    "TIL = \"Today I Learned\"\n",
    "print(TIL.lower())\n",
    "print(TIL.upper())"
   ]
  },
  {
   "cell_type": "code",
   "execution_count": 10,
   "id": "92cabb48",
   "metadata": {},
   "outputs": [],
   "source": [
    "# python에서는 list를 만들 때 [대괄호]를 이용한다!\n",
    "lang = []"
   ]
  },
  {
   "cell_type": "code",
   "execution_count": 11,
   "id": "d666f320",
   "metadata": {},
   "outputs": [
    {
     "name": "stdout",
     "output_type": "stream",
     "text": [
      "['python', 'Java', 'C']\n"
     ]
    }
   ],
   "source": [
    "# 원소 추가하기!\n",
    "lang.append(\"python\")\n",
    "lang.append(\"Java\")\n",
    "lang.append(\"C\")\n",
    "print(lang)"
   ]
  },
  {
   "cell_type": "code",
   "execution_count": 12,
   "id": "fb5acca6",
   "metadata": {},
   "outputs": [
    {
     "name": "stdout",
     "output_type": "stream",
     "text": [
      "['Java']\n",
      "['C']\n"
     ]
    }
   ],
   "source": [
    "# indexing을 통해서 원소 출력하기\n",
    "print([lang[1]])\n",
    "print([lang[-1]])"
   ]
  },
  {
   "cell_type": "code",
   "execution_count": null,
   "id": "b9cfc516",
   "metadata": {},
   "outputs": [],
   "source": []
  }
 ],
 "metadata": {
  "kernelspec": {
   "display_name": "Python 3 (ipykernel)",
   "language": "python",
   "name": "python3"
  },
  "language_info": {
   "codemirror_mode": {
    "name": "ipython",
    "version": 3
   },
   "file_extension": ".py",
   "mimetype": "text/x-python",
   "name": "python",
   "nbconvert_exporter": "python",
   "pygments_lexer": "ipython3",
   "version": "3.8.12"
  }
 },
 "nbformat": 4,
 "nbformat_minor": 5
}
